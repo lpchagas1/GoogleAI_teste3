{
  "nbformat": 4,
  "nbformat_minor": 0,
  "metadata": {
    "colab": {
      "provenance": [],
      "authorship_tag": "ABX9TyPuEhGpRvNyILRqjawZQaCl",
      "include_colab_link": true
    },
    "kernelspec": {
      "name": "python3",
      "display_name": "Python 3"
    },
    "language_info": {
      "name": "python"
    }
  },
  "cells": [
    {
      "cell_type": "markdown",
      "metadata": {
        "id": "view-in-github",
        "colab_type": "text"
      },
      "source": [
        "<a href=\"https://colab.research.google.com/github/lpchagas1/GoogleAI_teste3/blob/main/GoogleAI_teste3.ipynb\" target=\"_parent\"><img src=\"https://colab.research.google.com/assets/colab-badge.svg\" alt=\"Open In Colab\"/></a>"
      ]
    },
    {
      "cell_type": "markdown",
      "source": [
        "Instalando o SDK do Gpoogle"
      ],
      "metadata": {
        "id": "bhnja1dYo3a2"
      }
    },
    {
      "cell_type": "code",
      "source": [
        "!pip install -q -U google-generativeai"
      ],
      "metadata": {
        "id": "cfYwhvmXpBfm",
        "colab": {
          "base_uri": "https://localhost:8080/"
        },
        "outputId": "40c7b467-7350-420b-8739-4eb29ae4ccae"
      },
      "execution_count": null,
      "outputs": [
        {
          "output_type": "stream",
          "name": "stdout",
          "text": [
            "\u001b[2K     \u001b[90m━━━━━━━━━━━━━━━━━━━━━━━━━━━━━━━━━━━━━━━━\u001b[0m \u001b[32m150.7/150.7 kB\u001b[0m \u001b[31m3.1 MB/s\u001b[0m eta \u001b[36m0:00:00\u001b[0m\n",
            "\u001b[2K     \u001b[90m━━━━━━━━━━━━━━━━━━━━━━━━━━━━━━━━━━━━━━━━\u001b[0m \u001b[32m677.8/677.8 kB\u001b[0m \u001b[31m8.6 MB/s\u001b[0m eta \u001b[36m0:00:00\u001b[0m\n",
            "\u001b[?25h"
          ]
        }
      ]
    },
    {
      "cell_type": "markdown",
      "source": [
        "Configurar chave API"
      ],
      "metadata": {
        "id": "Ct-RzTIopUoK"
      }
    },
    {
      "cell_type": "code",
      "source": [
        "# Import the Python SDK\n",
        "import google.generativeai as genai\n",
        "# Used to securely store your API key\n",
        "from google.colab import userdata\n",
        "minha_chave = userdata.get('secret_key')\n",
        "\n",
        "GOOGLE_API_KEY=(minha_chave)\n",
        "genai.configure(api_key=GOOGLE_API_KEY)"
      ],
      "metadata": {
        "id": "iWiwgaxApZde"
      },
      "execution_count": 33,
      "outputs": []
    },
    {
      "cell_type": "markdown",
      "source": [
        "Verificando os modelos generativos disponíveis"
      ],
      "metadata": {
        "id": "JEHxfIiDp7_Y"
      }
    },
    {
      "cell_type": "code",
      "source": [
        "for m in genai.list_models():\n",
        "  if 'generateContent' in m.supported_generation_methods:\n",
        "    print(m.name)"
      ],
      "metadata": {
        "colab": {
          "base_uri": "https://localhost:8080/",
          "height": 139
        },
        "id": "4R7YickVp-05",
        "outputId": "2db9e467-eda0-4d07-ba45-bd03a4a67854"
      },
      "execution_count": 34,
      "outputs": [
        {
          "output_type": "stream",
          "name": "stdout",
          "text": [
            "models/gemini-1.0-pro\n",
            "models/gemini-1.0-pro-001\n",
            "models/gemini-1.0-pro-latest\n",
            "models/gemini-1.0-pro-vision-latest\n",
            "models/gemini-1.5-pro-latest\n",
            "models/gemini-pro\n",
            "models/gemini-pro-vision\n"
          ]
        }
      ]
    },
    {
      "cell_type": "markdown",
      "source": [
        "**Configurando/parametrizando o modelo:**"
      ],
      "metadata": {
        "id": "ot7nGz4BucWo"
      }
    },
    {
      "cell_type": "code",
      "source": [
        "generation_config = {\n",
        "    \"candidate_count\": 1,\n",
        "    \"temperature\": 0.5,\n",
        "}"
      ],
      "metadata": {
        "id": "hfn-1qoXscFl"
      },
      "execution_count": 35,
      "outputs": []
    },
    {
      "cell_type": "markdown",
      "source": [
        "Opcional (padrão: BLOCK_SOME)"
      ],
      "metadata": {
        "id": "hLaauTOGu6Oe"
      }
    },
    {
      "cell_type": "code",
      "source": [
        "safety_settings = {\n",
        "    \"HARASSMENT\": \"BLOCK_NONE\",\n",
        "    \"HATE\": \"BLOCK_NONE\",\n",
        "    \"SEXUAL\": \"BLOCK_NONE\",\n",
        "    \"DANGEROUS\": \"BLOCK_NONE\",\n",
        "}"
      ],
      "metadata": {
        "id": "Y-RNCtd8tS-h"
      },
      "execution_count": 36,
      "outputs": []
    },
    {
      "cell_type": "markdown",
      "source": [
        "Inicializando o modelo"
      ],
      "metadata": {
        "id": "_LhSpVwTvIjL"
      }
    },
    {
      "cell_type": "code",
      "source": [
        "model = genai.GenerativeModel(model_name=\"gemini-1.0-pro\",\n",
        "                              generation_config=generation_config,\n",
        "                              safety_settings=safety_settings)"
      ],
      "metadata": {
        "id": "jcwV-c3svAAS"
      },
      "execution_count": 37,
      "outputs": []
    },
    {
      "cell_type": "code",
      "source": [
        "response = model.generate_content(\"Quais são os fundamento de análise de políticas públicas?\")\n",
        "print(response.text)"
      ],
      "metadata": {
        "colab": {
          "base_uri": "https://localhost:8080/",
          "height": 850
        },
        "id": "QEzRgikEgu2O",
        "outputId": "daaf3040-fb4b-4d73-8a1b-a1a7e89a405d"
      },
      "execution_count": 38,
      "outputs": [
        {
          "output_type": "stream",
          "name": "stdout",
          "text": [
            "**Fundamentos da Análise de Políticas Públicas**\n",
            "\n",
            "**1. Compreensão do Problema**\n",
            "\n",
            "* Identificar e definir claramente o problema a ser resolvido.\n",
            "* Coletar dados e evidências para apoiar a definição do problema.\n",
            "* Analisar as causas e consequências do problema.\n",
            "\n",
            "**2. Formulação de Opções**\n",
            "\n",
            "* Gerar uma gama de opções de políticas para abordar o problema.\n",
            "* Avaliar a viabilidade, eficácia e eficiência das opções.\n",
            "* Considerar as implicações políticas, sociais e econômicas de cada opção.\n",
            "\n",
            "**3. Avaliação de Impactos**\n",
            "\n",
            "* Prever os impactos potenciais de cada opção de política.\n",
            "* Identificar os beneficiários e prejudicados.\n",
            "* Analisar os custos e benefícios de cada opção.\n",
            "\n",
            "**4. Seleção da Política**\n",
            "\n",
            "* Comparar as opções de política com base nos impactos avaliados.\n",
            "* Considerar os valores e prioridades da sociedade.\n",
            "* Tomar uma decisão informada sobre a política a ser implementada.\n",
            "\n",
            "**5. Implementação da Política**\n",
            "\n",
            "* Desenvolver um plano para implementar a política escolhida.\n",
            "* Alocar recursos e estabelecer marcos.\n",
            "* Monitorar e avaliar o progresso da implementação.\n",
            "\n",
            "**6. Avaliação da Política**\n",
            "\n",
            "* Coletar dados para avaliar a eficácia da política implementada.\n",
            "* Comparar os resultados reais com os impactos previstos.\n",
            "* Identificar áreas para melhoria ou ajuste.\n",
            "\n",
            "**7. Comunicação e Disseminação**\n",
            "\n",
            "* Comunicar os resultados da análise e avaliação de políticas aos tomadores de decisão e ao público.\n",
            "* Disseminar as lições aprendidas e as práticas recomendadas.\n",
            "\n",
            "**8. Ética e Neutralidade**\n",
            "\n",
            "* Manter a objetividade e a neutralidade na análise de políticas.\n",
            "* Considerar as implicações éticas das políticas propostas.\n",
            "* Ser transparente sobre os métodos e suposições usados.\n"
          ]
        }
      ]
    },
    {
      "cell_type": "code",
      "source": [
        "chat = model.start_chat(history=[])"
      ],
      "metadata": {
        "id": "edT69sVLhoHL"
      },
      "execution_count": 39,
      "outputs": []
    },
    {
      "cell_type": "code",
      "source": [
        "prompt = input(\"Esperando prompt: \")\n",
        "\n",
        "while prompt != \"fim\":\n",
        "  response = chat.send_message(prompt)\n",
        "  print(\"Resposta: \", response.text, \"\\n\")\n",
        "  prompt = input(\"Esperando prompt: \")"
      ],
      "metadata": {
        "colab": {
          "base_uri": "https://localhost:8080/",
          "height": 850
        },
        "id": "oAeDjc72ibCa",
        "outputId": "7795bb85-0660-414c-f28f-d02364de0800"
      },
      "execution_count": 40,
      "outputs": [
        {
          "name": "stdout",
          "output_type": "stream",
          "text": [
            "Esperando prompt: Políticas públicas do ICMBio\n",
            "Resposta:  **Políticas Públicas do Instituto Chico Mendes de Conservação da Biodiversidade (ICMBio)**\n",
            "\n",
            "O ICMBio é uma autarquia federal vinculada ao Ministério do Meio Ambiente, responsável pela gestão das unidades de conservação federais e pela conservação da biodiversidade brasileira. Suas políticas públicas visam proteger e conservar os ecossistemas, espécies e recursos genéticos do país.\n",
            "\n",
            "**Principais Políticas Públicas**\n",
            "\n",
            "**1. Gestão de Unidades de Conservação (UCs)**\n",
            "\n",
            "* Criação, ampliação e gestão de UCs federais, incluindo parques nacionais, reservas biológicas e estações ecológicas.\n",
            "* Implementação de planos de manejo para orientar as atividades dentro das UCs.\n",
            "* Monitoramento e fiscalização para garantir a conservação dos recursos naturais.\n",
            "\n",
            "**2. Conservação da Biodiversidade**\n",
            "\n",
            "* Proteção de espécies ameaçadas de extinção e seus habitats.\n",
            "* Implementação de programas de reprodução em cativeiro e reintrodução de espécies.\n",
            "* Controle de espécies invasoras e gestão de conflitos entre humanos e animais silvestres.\n",
            "\n",
            "**3. Pesquisa e Monitoramento**\n",
            "\n",
            "* Realização de pesquisas científicas para subsidiar as ações de conservação.\n",
            "* Monitoramento da biodiversidade e dos impactos das atividades humanas sobre os ecossistemas.\n",
            "* Estabelecimento de sistemas de informação e bancos de dados para gerenciar informações sobre a biodiversidade.\n",
            "\n",
            "**4. Educação Ambiental e Participação Social**\n",
            "\n",
            "* Promoção de programas de educação ambiental para sensibilizar a sociedade sobre a importância da conservação.\n",
            "* Incentivo à participação social na gestão das UCs e na conservação da biodiversidade.\n",
            "* Apoio a iniciativas comunitárias e parcerias com organizações não governamentais.\n",
            "\n",
            "**5. Uso Sustentável dos Recursos Naturais**\n",
            "\n",
            "* Regulamentação e fiscalização do uso sustentável dos recursos naturais dentro das UCs.\n",
            "* Promoção de práticas que minimizem os impactos ambientais das atividades econômicas.\n",
            "* Apoio a comunidades tradicionais que dependem dos recursos naturais para sua subsistência.\n",
            "\n",
            "**6. Gestão de Áreas Protegidas Marinhas**\n",
            "\n",
            "* Criação e gestão de áreas marinhas protegidas, incluindo reservas extrativistas marinhas e áreas de proteção ambiental.\n",
            "* Conservação de ecossistemas marinhos, como recifes de coral, manguezais e estuários.\n",
            "* Fiscalização e controle de atividades pesqueiras e outras atividades humanas que afetam os ambientes marinhos.\n",
            "\n",
            "**Implementação**\n",
            "\n",
            "As políticas públicas do ICMBio são implementadas por meio de ações integradas com outros órgãos do governo, organizações não governamentais, comunidades locais e parceiros internacionais. O ICMBio também conta com a colaboração de voluntários e pesquisadores para apoiar suas atividades. \n",
            "\n",
            "Esperando prompt: fim\n"
          ]
        }
      ]
    },
    {
      "cell_type": "markdown",
      "source": [
        "Melhorando a visualização"
      ],
      "metadata": {
        "id": "GpLYqlDNnyRB"
      }
    },
    {
      "cell_type": "code",
      "source": [
        "# Código disponível em https://ai.google.dev/tutorials/python_quickstart#import_packages\n",
        "import textwrap\n",
        "from IPython.display import display\n",
        "from IPython.display import Markdown\n",
        "\n",
        "def to_markdown(text):\n",
        "  text = text.replace('•', '  *')\n",
        "  return Markdown(textwrap.indent(text, '> ', predicate=lambda _: True))\n",
        "\n",
        "# Imprimindo o histórico\n",
        "for message in chat.history:\n",
        "  display(to_markdown(f'**{message.role}**: {message.parts[0].text}'))\n",
        "  print('-------')"
      ],
      "metadata": {
        "colab": {
          "base_uri": "https://localhost:8080/",
          "height": 777
        },
        "id": "JQvsD09QmHT-",
        "outputId": "1274df22-8b17-41bc-a348-3fb2eec3565a"
      },
      "execution_count": 41,
      "outputs": [
        {
          "output_type": "display_data",
          "data": {
            "text/plain": [
              "<IPython.core.display.Markdown object>"
            ],
            "text/markdown": "> **user**: Políticas públicas do ICMBio"
          },
          "metadata": {}
        },
        {
          "output_type": "stream",
          "name": "stdout",
          "text": [
            "-------\n"
          ]
        },
        {
          "output_type": "display_data",
          "data": {
            "text/plain": [
              "<IPython.core.display.Markdown object>"
            ],
            "text/markdown": "> **model**: **Políticas Públicas do Instituto Chico Mendes de Conservação da Biodiversidade (ICMBio)**\n> \n> O ICMBio é uma autarquia federal vinculada ao Ministério do Meio Ambiente, responsável pela gestão das unidades de conservação federais e pela conservação da biodiversidade brasileira. Suas políticas públicas visam proteger e conservar os ecossistemas, espécies e recursos genéticos do país.\n> \n> **Principais Políticas Públicas**\n> \n> **1. Gestão de Unidades de Conservação (UCs)**\n> \n> * Criação, ampliação e gestão de UCs federais, incluindo parques nacionais, reservas biológicas e estações ecológicas.\n> * Implementação de planos de manejo para orientar as atividades dentro das UCs.\n> * Monitoramento e fiscalização para garantir a conservação dos recursos naturais.\n> \n> **2. Conservação da Biodiversidade**\n> \n> * Proteção de espécies ameaçadas de extinção e seus habitats.\n> * Implementação de programas de reprodução em cativeiro e reintrodução de espécies.\n> * Controle de espécies invasoras e gestão de conflitos entre humanos e animais silvestres.\n> \n> **3. Pesquisa e Monitoramento**\n> \n> * Realização de pesquisas científicas para subsidiar as ações de conservação.\n> * Monitoramento da biodiversidade e dos impactos das atividades humanas sobre os ecossistemas.\n> * Estabelecimento de sistemas de informação e bancos de dados para gerenciar informações sobre a biodiversidade.\n> \n> **4. Educação Ambiental e Participação Social**\n> \n> * Promoção de programas de educação ambiental para sensibilizar a sociedade sobre a importância da conservação.\n> * Incentivo à participação social na gestão das UCs e na conservação da biodiversidade.\n> * Apoio a iniciativas comunitárias e parcerias com organizações não governamentais.\n> \n> **5. Uso Sustentável dos Recursos Naturais**\n> \n> * Regulamentação e fiscalização do uso sustentável dos recursos naturais dentro das UCs.\n> * Promoção de práticas que minimizem os impactos ambientais das atividades econômicas.\n> * Apoio a comunidades tradicionais que dependem dos recursos naturais para sua subsistência.\n> \n> **6. Gestão de Áreas Protegidas Marinhas**\n> \n> * Criação e gestão de áreas marinhas protegidas, incluindo reservas extrativistas marinhas e áreas de proteção ambiental.\n> * Conservação de ecossistemas marinhos, como recifes de coral, manguezais e estuários.\n> * Fiscalização e controle de atividades pesqueiras e outras atividades humanas que afetam os ambientes marinhos.\n> \n> **Implementação**\n> \n> As políticas públicas do ICMBio são implementadas por meio de ações integradas com outros órgãos do governo, organizações não governamentais, comunidades locais e parceiros internacionais. O ICMBio também conta com a colaboração de voluntários e pesquisadores para apoiar suas atividades."
          },
          "metadata": {}
        },
        {
          "output_type": "stream",
          "name": "stdout",
          "text": [
            "-------\n"
          ]
        }
      ]
    }
  ]
}